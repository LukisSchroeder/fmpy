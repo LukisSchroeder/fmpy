{
 "cells": [
  {
   "cell_type": "markdown",
   "source": [
    "# Examples\n",
    "\n",
    "This notebook is intended to show how you can use this version of fmpy by showcasing some example usages. In general most modules and related functions work in a similar matter but can slightly differ in the argument uses.\n",
    "\n",
    "The following examples are focused on the input parameters for the `process_data_frame`function within the *utils.py* module, which are related to the `args`and `kwargs` parameters."
   ],
   "metadata": {
    "collapsed": false
   }
  },
  {
   "cell_type": "code",
   "execution_count": null,
   "metadata": {
    "collapsed": true
   },
   "outputs": [],
   "source": [
    "from fmpy import stock_fundamentals\n",
    "from fmpy import stock_fundamentals_analysis"
   ]
  },
  {
   "cell_type": "code",
   "execution_count": null,
   "outputs": [],
   "source": [
    "stock_fundamentals.get_balance_sheet_statement(symbol='AAPL')"
   ],
   "metadata": {
    "collapsed": false
   }
  },
  {
   "cell_type": "markdown",
   "source": [
    "### Optional parameters of the process data frame function"
   ],
   "metadata": {
    "collapsed": false
   }
  },
  {
   "cell_type": "markdown",
   "source": [
    "**index_**: allows to change the index of the output frame given that the index exists as a column. If a 'date' column is detected in any of the dataframe columns' the index will be set to date by default."
   ],
   "metadata": {
    "collapsed": false
   }
  },
  {
   "cell_type": "code",
   "execution_count": null,
   "outputs": [],
   "source": [
    "stock_fundamentals_analysis.get_historical_discounted_cashflow(symbol='AAPL', index_='dcf')"
   ],
   "metadata": {
    "collapsed": false
   }
  },
  {
   "cell_type": "markdown",
   "source": [
    "**transpose_** allos to retrieve a transposed dataframe output"
   ],
   "metadata": {
    "collapsed": false
   }
  },
  {
   "cell_type": "code",
   "execution_count": null,
   "outputs": [],
   "source": [
    "stock_fundamentals.get_balance_sheet_statement('AAPL', transpose_=False)"
   ],
   "metadata": {
    "collapsed": false
   }
  },
  {
   "cell_type": "markdown",
   "source": [
    "**ignore** accepts a single string or a list of strings and will drop those columns from the dataframe output."
   ],
   "metadata": {
    "collapsed": false
   }
  },
  {
   "cell_type": "code",
   "execution_count": null,
   "outputs": [],
   "source": [
    "stock_fundamentals.get_balance_sheet_statement('AAPL', ignore_=['symbol', 'cik', 'accepted_date'])"
   ],
   "metadata": {
    "collapsed": false
   }
  },
  {
   "cell_type": "markdown",
   "source": [
    "Save a dataframe with your configured or a specified output path"
   ],
   "metadata": {
    "collapsed": false
   }
  },
  {
   "cell_type": "markdown",
   "source": [
    "**save** you can set save to True to save a dataframe with the datatype 'csv' or 'xlsx'. (default 'csv')\n",
    "\n",
    "**output_path** you can set a output_path where to save your dataframe if save is True. If not specified fmpy expects an initialized output path in your config.json file\n",
    "\n",
    "**datatype** set the datatype to save the data with. Currently supported datatypes are 'csv', 'xlsx' which is 'csv' by default\n",
    "\n",
    "**filename** If save is True you want to choose a filename for the dataframe if no specific output_path is set. This will save your data to your configured output path with the given filename"
   ],
   "metadata": {
    "collapsed": false
   }
  },
  {
   "cell_type": "markdown",
   "source": [
    "**format_** allows you to specify the format of numeric columns. The format is expected to be 'mil' or 'bil' and is intended for clearer visualization of large numbers. This argument however will be removed in future versions."
   ],
   "metadata": {
    "collapsed": false
   }
  },
  {
   "cell_type": "code",
   "execution_count": null,
   "outputs": [],
   "source": [
    "stock_fundamentals.get_balance_sheet_statement('AAPL', format_='mil')"
   ],
   "metadata": {
    "collapsed": false
   }
  },
  {
   "cell_type": "markdown",
   "source": [
    "**to_datetime** if set to False date columns will not be converted to datetime objects. (default True)\n",
    "**reversed_** if set to True will return date specific columns in a reversed manner."
   ],
   "metadata": {
    "collapsed": false
   }
  },
  {
   "cell_type": "code",
   "execution_count": null,
   "outputs": [],
   "source": [
    "stock_fundamentals.get_balance_sheet_statement('AAPL', reversed_=True)"
   ],
   "metadata": {
    "collapsed": false
   }
  }
 ],
 "metadata": {
  "kernelspec": {
   "display_name": "Python 3",
   "language": "python",
   "name": "python3"
  },
  "language_info": {
   "codemirror_mode": {
    "name": "ipython",
    "version": 2
   },
   "file_extension": ".py",
   "mimetype": "text/x-python",
   "name": "python",
   "nbconvert_exporter": "python",
   "pygments_lexer": "ipython2",
   "version": "2.7.6"
  }
 },
 "nbformat": 4,
 "nbformat_minor": 0
}
